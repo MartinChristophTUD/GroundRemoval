{
 "cells": [
  {
   "cell_type": "code",
   "execution_count": 1,
   "metadata": {},
   "outputs": [
    {
     "name": "stdout",
     "output_type": "stream",
     "text": [
      "Jupyter environment detected. Enabling Open3D WebVisualizer.\n",
      "[Open3D INFO] WebRTC GUI backend enabled.\n",
      "[Open3D INFO] WebRTCWindowSystem: HTTP handshake server disabled.\n"
     ]
    }
   ],
   "source": [
    "import os\n",
    "import numpy as np\n",
    "import open3d as o3d"
   ]
  },
  {
   "cell_type": "code",
   "execution_count": 31,
   "metadata": {},
   "outputs": [],
   "source": [
    "def visualize_ransac_ground_removal(session, frame):\n",
    "    file_name = os.path.join(f'sessions/frames_{session:02d}', f'frame_{frame:05d}.npy')\n",
    "    \n",
    "    # Create an Open3D PointCloud object\n",
    "    point_cloud_o3d = o3d.geometry.PointCloud()\n",
    "    point_cloud_array = np.load(file_name)\n",
    "    point_cloud_o3d.points = o3d.utility.Vector3dVector(point_cloud_array)\n",
    "\n",
    "    # Segment the plane\n",
    "    plane_model, inliers = point_cloud_o3d.segment_plane(distance_threshold=0.3,\n",
    "                                                         ransac_n=3,\n",
    "                                                         num_iterations=2000)\n",
    "    \n",
    "    [a, b, c, d] = plane_model\n",
    "    print(f\"Plane equation: {a:.2f}x + {b:.2f}y + {c:.2f}z + {d:.2f} = 0\")\n",
    "\n",
    "    # Find points below the plane\n",
    "    all_points = point_cloud_np\n",
    "    plane_eq = all_points.dot(plane_model[:3]) + d\n",
    "    below_plane = np.where(plane_eq < 0)[0]\n",
    "\n",
    "    # Combine inliers and below plane points\n",
    "    combined_inliers = np.union1d(inliers, below_plane)\n",
    "\n",
    "    # Create inlier and outlier clouds\n",
    "    inlier_cloud = point_cloud_o3d.select_by_index(inliers)\n",
    "    inlier_cloud.paint_uniform_color([1.0, 0, 0])  # Red color\n",
    "    below_plain_cloud = point_cloud_o3d.select_by_index(below_plane)\n",
    "    below_plain_cloud.paint_uniform_color([1.0, 1.0, 0])  # Yellow color \n",
    "    outlier_cloud = point_cloud_o3d.select_by_index(combined_inliers, invert=True)\n",
    "\n",
    "    # Visualize\n",
    "    o3d.visualization.draw_geometries([outlier_cloud, inlier_cloud, below_plain_cloud])\n"
   ]
  },
  {
   "cell_type": "code",
   "execution_count": 35,
   "metadata": {},
   "outputs": [],
   "source": [
    "def ransac_ground_removal(session, frame):\n",
    "    file_name = os.path.join(f'sessions/frames_{session:02d}', f'frame_{frame:05d}.npy')\n",
    "    \n",
    "    # Create an Open3D PointCloud object\n",
    "    point_cloud_o3d = o3d.geometry.PointCloud()\n",
    "    point_cloud_array = np.load(file_name)\n",
    "    point_cloud_o3d.points = o3d.utility.Vector3dVector(point_cloud_array)\n",
    "\n",
    "    # Segment the plane\n",
    "    plane_model, inliers = point_cloud_o3d.segment_plane(distance_threshold=0.3,\n",
    "                                                         ransac_n=3,\n",
    "                                                         num_iterations=2000)\n",
    "    \n",
    "    [a, b, c, d] = plane_model\n",
    "    print(f\"Plane equation: {a:.2f}x + {b:.2f}y + {c:.2f}z + {d:.2f} = 0\")\n",
    "\n",
    "    # Find points below the plane\n",
    "    all_points = point_cloud_array\n",
    "    plane_eq = all_points.dot(plane_model[:3]) + d\n",
    "    below_plane = np.where(plane_eq < 0)[0]\n",
    "\n",
    "    # Combine inliers and below plane points\n",
    "    combined_inliers = np.union1d(inliers, below_plane)\n",
    "\n",
    "    outlier_cloud = point_cloud_o3d.select_by_index(combined_inliers, invert=True)\n",
    "\n",
    "    non_ground_points_array = np.asarray(outlier_cloud.points)\n",
    "    np.save(file_name, non_ground_points_array)"
   ]
  },
  {
   "cell_type": "code",
   "execution_count": 36,
   "metadata": {},
   "outputs": [
    {
     "name": "stdout",
     "output_type": "stream",
     "text": [
      "Plane equation: -0.02x + 0.01y + 1.00z + 1.69 = 0\n"
     ]
    }
   ],
   "source": [
    "ransac_ground_removal(0,0)"
   ]
  }
 ],
 "metadata": {
  "kernelspec": {
   "display_name": ".venv",
   "language": "python",
   "name": "python3"
  },
  "language_info": {
   "codemirror_mode": {
    "name": "ipython",
    "version": 3
   },
   "file_extension": ".py",
   "mimetype": "text/x-python",
   "name": "python",
   "nbconvert_exporter": "python",
   "pygments_lexer": "ipython3",
   "version": "3.8.10"
  }
 },
 "nbformat": 4,
 "nbformat_minor": 2
}
