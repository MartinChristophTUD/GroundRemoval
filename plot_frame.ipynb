{
 "cells": [
  {
   "cell_type": "code",
   "execution_count": 1,
   "metadata": {},
   "outputs": [
    {
     "name": "stdout",
     "output_type": "stream",
     "text": [
      "Jupyter environment detected. Enabling Open3D WebVisualizer.\n",
      "[Open3D INFO] WebRTC GUI backend enabled.\n",
      "[Open3D INFO] WebRTCWindowSystem: HTTP handshake server disabled.\n"
     ]
    }
   ],
   "source": [
    "import os\n",
    "import numpy as np\n",
    "import open3d as o3d"
   ]
  },
  {
   "cell_type": "code",
   "execution_count": 2,
   "metadata": {},
   "outputs": [],
   "source": [
    "def visualization_tool(session, frame):\n",
    "    # Initial setup & frame range\n",
    "    pcd = o3d.geometry.PointCloud()\n",
    "    current_frame = frame\n",
    "\n",
    "    folder_path = f'sessions/frames_{session:02d}'\n",
    "    entries = os.listdir(folder_path)\n",
    "    max_frame = len(entries) - 1\n",
    "\n",
    "    def plot_frame(session, frame):\n",
    "        file_name = os.path.join(f'sessions/frames_{session:02d}', f'frame_{frame:05d}.npy')\n",
    "        point_cloud_np = np.load(file_name)\n",
    "        # Create an Open3D PointCloud object\n",
    "        #point_cloud_o3d = o3d.geometry.PointCloud()\n",
    "        pcd.points = o3d.utility.Vector3dVector(point_cloud_np)\n",
    "        \n",
    "        #o3d.visualization.draw_geometries([point_cloud_o3d])\n",
    "        return pcd\n",
    "    \n",
    "    # Key callback function for moving to the next frame\n",
    "    def next_frame(vis):\n",
    "        nonlocal current_frame\n",
    "        nonlocal max_frame\n",
    "        if current_frame < max_frame:\n",
    "            current_frame += 1\n",
    "            plot_frame(session, current_frame)\n",
    "            vis.update_geometry(pcd)\n",
    "            vis.poll_events()\n",
    "            vis.update_renderer()\n",
    "\n",
    "    # Key callback function for moving to the previous frame\n",
    "    def prev_frame(vis):\n",
    "        nonlocal current_frame\n",
    "        if current_frame > 0:\n",
    "            current_frame -= 1\n",
    "            plot_frame(session, current_frame)\n",
    "            vis.update_geometry(pcd)\n",
    "            vis.poll_events()\n",
    "            vis.update_renderer()\n",
    "    \n",
    "    # Create an Open3D visualization object\n",
    "    vis = o3d.visualization.VisualizerWithKeyCallback()\n",
    "    vis.create_window()\n",
    "\n",
    "    # Add the initial frame's point cloud to the visualization\n",
    "    vis.add_geometry(plot_frame(session, current_frame))\n",
    "\n",
    "    # Register key callbacks for next and previous frames\n",
    "    vis.register_key_callback(262, next_frame)\n",
    "    vis.register_key_callback(263, prev_frame)\n",
    "\n",
    "    # Start/Stop the visualization loop\n",
    "    vis.run()\n",
    "    vis.destroy_window()"
   ]
  },
  {
   "cell_type": "code",
   "execution_count": 3,
   "metadata": {},
   "outputs": [],
   "source": [
    "visualization_tool(0,0)"
   ]
  }
 ],
 "metadata": {
  "kernelspec": {
   "display_name": ".venv",
   "language": "python",
   "name": "python3"
  },
  "language_info": {
   "codemirror_mode": {
    "name": "ipython",
    "version": 3
   },
   "file_extension": ".py",
   "mimetype": "text/x-python",
   "name": "python",
   "nbconvert_exporter": "python",
   "pygments_lexer": "ipython3",
   "version": "3.8.10"
  }
 },
 "nbformat": 4,
 "nbformat_minor": 2
}
